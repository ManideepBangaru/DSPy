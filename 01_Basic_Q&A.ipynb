{
 "cells": [
  {
   "cell_type": "markdown",
   "metadata": {},
   "source": [
    "## Configure DSPy environment"
   ]
  },
  {
   "cell_type": "code",
   "execution_count": 6,
   "metadata": {},
   "outputs": [],
   "source": [
    "# import dspy\n",
    "import dspy\n",
    "\n",
    "# For display\n",
    "from IPython.display import Markdown"
   ]
  },
  {
   "cell_type": "code",
   "execution_count": 3,
   "metadata": {},
   "outputs": [],
   "source": [
    "# Lets tell dspy that we will use OpenAI GPT 4o mini\n",
    "lm = dspy.LM('openai/gpt-4o-mini')\n",
    "dspy.configure(lm = lm)"
   ]
  },
  {
   "cell_type": "markdown",
   "metadata": {},
   "source": [
    "## Exploring some DSPy modules"
   ]
  },
  {
   "cell_type": "code",
   "execution_count": 7,
   "metadata": {},
   "outputs": [
    {
     "data": {
      "text/markdown": [
       "In Linux, \"high memory\" and \"low memory\" refer to different regions of the system's memory address space, particularly in the context of 32-bit architectures.\n",
       "\n",
       "- **Low Memory**: This typically refers to the first 896 MB of memory in a 32-bit system. It is directly accessible by the kernel and can be used for kernel data structures and user processes. The low memory region is where most of the system's memory management occurs, and it is where the kernel can allocate memory for processes without needing special handling.\n",
       "\n",
       "- **High Memory**: This refers to the memory above the 896 MB threshold in a 32-bit system. This memory is not directly accessible by the kernel in the same way as low memory. Instead, it requires special handling, such as using a mechanism called \"high memory management\" to access it. High memory is typically used for user processes and can be allocated dynamically, but the kernel must map it into its address space to access it.\n",
       "\n",
       "In summary, low memory is directly accessible by the kernel, while high memory requires additional management to be accessed by the kernel in a 32-bit Linux environment."
      ],
      "text/plain": [
       "<IPython.core.display.Markdown object>"
      ]
     },
     "execution_count": 7,
     "metadata": {},
     "output_type": "execute_result"
    }
   ],
   "source": [
    "qa = dspy.Predict('question : str -> response : str')\n",
    "Markdown(qa(question = 'What are high memory and low memory in linux').response)"
   ]
  },
  {
   "cell_type": "markdown",
   "metadata": {},
   "source": [
    "## Inspection"
   ]
  },
  {
   "cell_type": "code",
   "execution_count": 10,
   "metadata": {},
   "outputs": [
    {
     "name": "stdout",
     "output_type": "stream",
     "text": [
      "\n",
      "\n",
      "\n",
      "\n",
      "\u001b[34m[2024-10-19T13:05:29.277664]\u001b[0m\n",
      "\n",
      "\u001b[31mSystem message:\u001b[0m\n",
      "\n",
      "Your input fields are:\n",
      "1. `question` (str)\n",
      "\n",
      "Your output fields are:\n",
      "1. `response` (str)\n",
      "\n",
      "All interactions will be structured in the following way, with the appropriate values filled in.\n",
      "\n",
      "[[ ## question ## ]]\n",
      "{question}\n",
      "\n",
      "[[ ## response ## ]]\n",
      "{response}\n",
      "\n",
      "[[ ## completed ## ]]\n",
      "\n",
      "In adhering to this structure, your objective is: \n",
      "        Given the fields `question`, produce the fields `response`.\n",
      "\n",
      "\n",
      "\u001b[31mUser message:\u001b[0m\n",
      "\n",
      "[[ ## question ## ]]\n",
      "What are high memory and low memory in linux\n",
      "\n",
      "Respond with the corresponding output fields, starting with the field `response`, and then ending with the marker for `completed`.\n",
      "\n",
      "\n",
      "\u001b[31mResponse:\u001b[0m\n",
      "\n",
      "\u001b[32m[[ ## response ## ]]\n",
      "In Linux, \"high memory\" and \"low memory\" refer to different regions of the system's memory address space, particularly in the context of 32-bit architectures.\n",
      "\n",
      "- **Low Memory**: This typically refers to the first 896 MB of memory in a 32-bit system. It is directly accessible by the kernel and can be used for kernel data structures and user processes. The low memory region is where most of the system's memory management occurs, and it is where the kernel can allocate memory for processes without needing special handling.\n",
      "\n",
      "- **High Memory**: This refers to the memory above the 896 MB threshold in a 32-bit system. This memory is not directly accessible by the kernel in the same way as low memory. Instead, it requires special handling, such as using a mechanism called \"high memory management\" to access it. High memory is typically used for user processes and can be allocated dynamically, but the kernel must map it into its address space to access it.\n",
      "\n",
      "In summary, low memory is directly accessible by the kernel, while high memory requires additional management to be accessed by the kernel in a 32-bit Linux environment.\n",
      "\n",
      "[[ ## completed ## ]]\u001b[0m\n",
      "\n",
      "\n",
      "\n",
      "\n",
      "\n"
     ]
    }
   ],
   "source": [
    "dspy.inspect_history(n=1)"
   ]
  },
  {
   "cell_type": "code",
   "execution_count": 16,
   "metadata": {},
   "outputs": [
    {
     "data": {
      "text/plain": [
       "Prediction(\n",
       "    reasoning='The placement of curly braces often depends on the coding style guidelines being followed. In many programming languages, such as Java, C#, and JavaScript, it is common to place opening curly braces on the same line as the statement that precedes them, while closing curly braces are often placed on their own line. This style enhances readability and maintains a clear structure. However, some coding standards, like those used in Python or certain functional programming languages, may not use curly braces at all. Ultimately, whether curly braces should appear on their own line is a matter of personal or team preference, and consistency within a codebase is key.',\n",
       "    response=\"Curly braces can appear on their own line depending on the coding style guidelines you are following. Many developers prefer placing the opening brace on the same line as the preceding statement for readability, while the closing brace is often placed on its own line. It's important to follow a consistent style throughout your codebase.\"\n",
       ")"
      ]
     },
     "execution_count": 16,
     "metadata": {},
     "output_type": "execute_result"
    }
   ],
   "source": [
    "cot = dspy.ChainOfThought('question -> response')\n",
    "cot(question = \"should curly braces appear on their own line ?\")"
   ]
  },
  {
   "cell_type": "code",
   "execution_count": 17,
   "metadata": {},
   "outputs": [
    {
     "name": "stdout",
     "output_type": "stream",
     "text": [
      "\n",
      "\n",
      "\n",
      "\n",
      "\u001b[34m[2024-10-19T13:14:49.784757]\u001b[0m\n",
      "\n",
      "\u001b[31mSystem message:\u001b[0m\n",
      "\n",
      "Your input fields are:\n",
      "1. `question` (str)\n",
      "\n",
      "Your output fields are:\n",
      "1. `reasoning` (str)\n",
      "2. `response` (str)\n",
      "\n",
      "All interactions will be structured in the following way, with the appropriate values filled in.\n",
      "\n",
      "[[ ## question ## ]]\n",
      "{question}\n",
      "\n",
      "[[ ## reasoning ## ]]\n",
      "{reasoning}\n",
      "\n",
      "[[ ## response ## ]]\n",
      "{response}\n",
      "\n",
      "[[ ## completed ## ]]\n",
      "\n",
      "In adhering to this structure, your objective is: \n",
      "        Given the fields `question`, produce the fields `response`.\n",
      "\n",
      "\n",
      "\u001b[31mUser message:\u001b[0m\n",
      "\n",
      "[[ ## question ## ]]\n",
      "should curly braces appear on their own line ?\n",
      "\n",
      "Respond with the corresponding output fields, starting with the field `reasoning`, then `response`, and then ending with the marker for `completed`.\n",
      "\n",
      "\n",
      "\u001b[31mResponse:\u001b[0m\n",
      "\n",
      "\u001b[32m[[ ## reasoning ## ]]\n",
      "The placement of curly braces often depends on the coding style guidelines being followed. In many programming languages, such as Java, C#, and JavaScript, it is common to place opening curly braces on the same line as the statement that precedes them, while closing curly braces are often placed on their own line. This style enhances readability and maintains a clear structure. However, some coding standards, like those used in Python or certain functional programming languages, may not use curly braces at all. Ultimately, whether curly braces should appear on their own line is a matter of personal or team preference, and consistency within a codebase is key.\n",
      "\n",
      "[[ ## response ## ]]\n",
      "Curly braces can appear on their own line depending on the coding style guidelines you are following. Many developers prefer placing the opening brace on the same line as the preceding statement for readability, while the closing brace is often placed on its own line. It's important to follow a consistent style throughout your codebase.\n",
      "\n",
      "[[ ## completed ## ]]\u001b[0m\n",
      "\n",
      "\n",
      "\n",
      "\n",
      "\n"
     ]
    }
   ],
   "source": [
    "dspy.inspect_history(n=1)"
   ]
  },
  {
   "cell_type": "markdown",
   "metadata": {},
   "source": [
    "## Manipulating Examples ins DSPy"
   ]
  },
  {
   "cell_type": "code",
   "execution_count": 19,
   "metadata": {},
   "outputs": [
    {
     "data": {
      "text/plain": [
       "{'question': 'how to transfer whatsapp voice message to computer?',\n",
       " 'response': 'To transfer voice notes from WhatsApp on your device to your computer, you have the option to select the \"Share\" feature within the app and send the files via Email, Gmail, Bluetooth, or other available services.  \\nYou can also move the files onto your phone\\'s SD card, connect your phone to your computer via a USB cable, then find and transfer the files via File Explorer on your PC. \\nAlternatively, you can choose to attach all the desired voice notes to an email and, from your phone, send them to your own email address.  \\nUpon receiving the email on your computer, you can then download the voice note attachments.'}"
      ]
     },
     "execution_count": 19,
     "metadata": {},
     "output_type": "execute_result"
    }
   ],
   "source": [
    "import ujson\n",
    "\n",
    "# Download 500 question--answer pairs from the RAG-QA Arena \"Tech\" dataset.\n",
    "# !wget https://huggingface.co/dspy/cache/resolve/main/ragqa_arena_tech_500.json\n",
    "# CURL -O https://huggingface.co/dspy/cache/resolve/main/ragqa_arena_tech_500.json\n",
    "\n",
    "with open('data/ragqa_arena_tech_500.json') as f:\n",
    "    data = ujson.load(f)\n",
    "\n",
    "# Inspect one datapoint.\n",
    "data[0]\n"
   ]
  },
  {
   "cell_type": "code",
   "execution_count": 20,
   "metadata": {},
   "outputs": [],
   "source": [
    "data = [dspy.Example(**d).with_inputs('question') for d in data]"
   ]
  },
  {
   "cell_type": "code",
   "execution_count": 22,
   "metadata": {},
   "outputs": [
    {
     "data": {
      "text/plain": [
       "Example({'question': 'how to transfer whatsapp voice message to computer?', 'response': 'To transfer voice notes from WhatsApp on your device to your computer, you have the option to select the \"Share\" feature within the app and send the files via Email, Gmail, Bluetooth, or other available services.  \\nYou can also move the files onto your phone\\'s SD card, connect your phone to your computer via a USB cable, then find and transfer the files via File Explorer on your PC. \\nAlternatively, you can choose to attach all the desired voice notes to an email and, from your phone, send them to your own email address.  \\nUpon receiving the email on your computer, you can then download the voice note attachments.'}) (input_keys={'question'})"
      ]
     },
     "execution_count": 22,
     "metadata": {},
     "output_type": "execute_result"
    }
   ],
   "source": [
    "data[0]"
   ]
  },
  {
   "cell_type": "code",
   "execution_count": 24,
   "metadata": {},
   "outputs": [
    {
     "data": {
      "text/plain": [
       "Example({'question': 'what are high memory and low memory on linux?', 'response': '\"High Memory\" refers to the application or user space, the memory that user programs can use and which isn\\'t permanently mapped in the kernel\\'s space, while \"Low Memory\" is the kernel\\'s space, which the kernel can address directly and is permanently mapped. \\nThe user cannot access the Low Memory as it is set aside for the required kernel programs.'}) (input_keys={'question'})"
      ]
     },
     "execution_count": 24,
     "metadata": {},
     "output_type": "execute_result"
    }
   ],
   "source": [
    "example = data[2]\n",
    "example"
   ]
  },
  {
   "cell_type": "code",
   "execution_count": 25,
   "metadata": {},
   "outputs": [
    {
     "data": {
      "text/plain": [
       "(50, 100, 150, 200)"
      ]
     },
     "execution_count": 25,
     "metadata": {},
     "output_type": "execute_result"
    }
   ],
   "source": [
    "trainset, valset, devset, testset = data[:50], data[50:150], data[150:300], data[300:500]\n",
    "\n",
    "len(trainset), len(valset), len(devset), len(testset)"
   ]
  },
  {
   "cell_type": "markdown",
   "metadata": {},
   "source": [
    "## Evaluation in DSPy"
   ]
  },
  {
   "cell_type": "code",
   "execution_count": 26,
   "metadata": {},
   "outputs": [],
   "source": [
    "from dspy.evaluate import SemanticF1\n",
    "\n",
    "# Instantiate the metric\n",
    "metric = SemanticF1()\n",
    "\n",
    "# Produce a prediction from our 'cot' module, using the 'example' above as input\n",
    "pred = cot(**example.inputs())\n",
    "\n",
    "# Compute the metrics score for prediction\n",
    "score = metric(example, pred)"
   ]
  },
  {
   "cell_type": "code",
   "execution_count": 27,
   "metadata": {},
   "outputs": [
    {
     "name": "stdout",
     "output_type": "stream",
     "text": [
      "Question: \t what are high memory and low memory on linux?\n",
      "\n",
      "Gold Reponse: \t \"High Memory\" refers to the application or user space, the memory that user programs can use and which isn't permanently mapped in the kernel's space, while \"Low Memory\" is the kernel's space, which the kernel can address directly and is permanently mapped. \n",
      "The user cannot access the Low Memory as it is set aside for the required kernel programs.\n",
      "\n",
      "Predicted Response: \t In Linux, \"low memory\" refers to the memory that is directly accessible by the kernel, typically the first 896 MB on a 32-bit system. \"High memory\" refers to memory above this limit that cannot be directly accessed by the kernel and requires special handling. This distinction is crucial for efficient memory management, especially in systems with large amounts of RAM.\n",
      "\n",
      "Semantic F1 Score: 0.71\n"
     ]
    }
   ],
   "source": [
    "print(f\"Question: \\t {example.question}\\n\")\n",
    "print(f\"Gold Reponse: \\t {example.response}\\n\")\n",
    "print(f\"Predicted Response: \\t {pred.response}\\n\")\n",
    "print(f\"Semantic F1 Score: {score:.2f}\")"
   ]
  },
  {
   "cell_type": "code",
   "execution_count": 29,
   "metadata": {},
   "outputs": [
    {
     "name": "stdout",
     "output_type": "stream",
     "text": [
      "\n",
      "\n",
      "\n",
      "\n",
      "\u001b[34m[2024-10-19T13:43:38.330275]\u001b[0m\n",
      "\n",
      "\u001b[31mSystem message:\u001b[0m\n",
      "\n",
      "Your input fields are:\n",
      "1. `question` (str)\n",
      "2. `ground_truth` (str)\n",
      "3. `system_response` (str)\n",
      "\n",
      "Your output fields are:\n",
      "1. `reasoning` (str)\n",
      "2. `recall` (float): fraction (out of 1.0) of ground truth covered by the system response\n",
      "3. `precision` (float): fraction (out of 1.0) of system response covered by the ground truth\n",
      "\n",
      "All interactions will be structured in the following way, with the appropriate values filled in.\n",
      "\n",
      "[[ ## question ## ]]\n",
      "{question}\n",
      "\n",
      "[[ ## ground_truth ## ]]\n",
      "{ground_truth}\n",
      "\n",
      "[[ ## system_response ## ]]\n",
      "{system_response}\n",
      "\n",
      "[[ ## reasoning ## ]]\n",
      "{reasoning}\n",
      "\n",
      "[[ ## recall ## ]]\n",
      "{recall}\n",
      "\n",
      "[[ ## precision ## ]]\n",
      "{precision}\n",
      "\n",
      "[[ ## completed ## ]]\n",
      "\n",
      "In adhering to this structure, your objective is: \n",
      "        Compare a system's response to the ground truth to compute its recall and precision.\n",
      "        If asked to reason, enumerate key ideas in each response, and whether they are present in the other response.\n",
      "\n",
      "\n",
      "\u001b[31mUser message:\u001b[0m\n",
      "\n",
      "[[ ## question ## ]]\n",
      "what are high memory and low memory on linux?\n",
      "\n",
      "[[ ## ground_truth ## ]]\n",
      "\"High Memory\" refers to the application or user space, the memory that user programs can use and which isn't permanently mapped in the kernel's space, while \"Low Memory\" is the kernel's space, which the kernel can address directly and is permanently mapped. \n",
      "The user cannot access the Low Memory as it is set aside for the required kernel programs.\n",
      "\n",
      "[[ ## system_response ## ]]\n",
      "In Linux, \"low memory\" refers to the memory that is directly accessible by the kernel, typically the first 896 MB on a 32-bit system. \"High memory\" refers to memory above this limit that cannot be directly accessed by the kernel and requires special handling. This distinction is crucial for efficient memory management, especially in systems with large amounts of RAM.\n",
      "\n",
      "Respond with the corresponding output fields, starting with the field `reasoning`, then `recall`, then `precision`, and then ending with the marker for `completed`.\n",
      "\n",
      "\n",
      "\u001b[31mResponse:\u001b[0m\n",
      "\n",
      "\u001b[32m[[ ## reasoning ## ]]\n",
      "The system response correctly identifies \"low memory\" as the memory directly accessible by the kernel and mentions the typical size on a 32-bit system. It also describes \"high memory\" as the memory above this limit that requires special handling. However, it does not explicitly mention that \"high memory\" refers to user space or that low memory is set aside for kernel programs, which are key points in the ground truth. The system response captures the essence of the definitions but lacks some details present in the ground truth.\n",
      "\n",
      "[[ ## recall ## ]]\n",
      "0.75\n",
      "\n",
      "[[ ## precision ## ]]\n",
      "0.67\n",
      "\n",
      "[[ ## completed ## ]]\u001b[0m\n",
      "\n",
      "\n",
      "\n",
      "\n",
      "\n"
     ]
    }
   ],
   "source": [
    "dspy.inspect_history(n=1)"
   ]
  },
  {
   "cell_type": "code",
   "execution_count": 30,
   "metadata": {},
   "outputs": [],
   "source": [
    "# Define an evaluator that we can re-use\n",
    "evaluate = dspy.Evaluate(devset=devset,\n",
    "                         metric=metric,\n",
    "                         num_threads = 24,\n",
    "                         display_progress=True,\n",
    "                         display_table=3)"
   ]
  },
  {
   "cell_type": "code",
   "execution_count": 31,
   "metadata": {},
   "outputs": [
    {
     "name": "stderr",
     "output_type": "stream",
     "text": [
      "Average Metric: 58.3150720833188 / 150  (38.9): 100%|██████████| 150/150 [00:34<00:00,  4.37it/s]  \n"
     ]
    },
    {
     "data": {
      "text/html": [
       "<style type=\"text/css\">\n",
       "#T_4df45 th {\n",
       "  text-align: left;\n",
       "}\n",
       "#T_4df45 td {\n",
       "  text-align: left;\n",
       "}\n",
       "#T_4df45_row0_col0, #T_4df45_row0_col1, #T_4df45_row0_col2, #T_4df45_row0_col3, #T_4df45_row0_col4, #T_4df45_row1_col0, #T_4df45_row1_col1, #T_4df45_row1_col2, #T_4df45_row1_col3, #T_4df45_row1_col4, #T_4df45_row2_col0, #T_4df45_row2_col1, #T_4df45_row2_col2, #T_4df45_row2_col3, #T_4df45_row2_col4 {\n",
       "  text-align: left;\n",
       "  white-space: pre-wrap;\n",
       "  word-wrap: break-word;\n",
       "  max-width: 400px;\n",
       "}\n",
       "</style>\n",
       "<table id=\"T_4df45\">\n",
       "  <thead>\n",
       "    <tr>\n",
       "      <th class=\"blank level0\" >&nbsp;</th>\n",
       "      <th id=\"T_4df45_level0_col0\" class=\"col_heading level0 col0\" >question</th>\n",
       "      <th id=\"T_4df45_level0_col1\" class=\"col_heading level0 col1\" >example_response</th>\n",
       "      <th id=\"T_4df45_level0_col2\" class=\"col_heading level0 col2\" >reasoning</th>\n",
       "      <th id=\"T_4df45_level0_col3\" class=\"col_heading level0 col3\" >pred_response</th>\n",
       "      <th id=\"T_4df45_level0_col4\" class=\"col_heading level0 col4\" >SemanticF1</th>\n",
       "    </tr>\n",
       "  </thead>\n",
       "  <tbody>\n",
       "    <tr>\n",
       "      <th id=\"T_4df45_level0_row0\" class=\"row_heading level0 row0\" >0</th>\n",
       "      <td id=\"T_4df45_row0_col0\" class=\"data row0 col0\" >why is mercurial considered to be easier than git?</td>\n",
       "      <td id=\"T_4df45_row0_col1\" class=\"data row0 col1\" >Mercurial's syntax is considered more familiar, especially for those accustomed to SVN, and is well documented. It focuses on interface aspects, which initially makes learning...</td>\n",
       "      <td id=\"T_4df45_row0_col2\" class=\"data row0 col2\" >Mercurial is often considered easier than Git for several reasons. Firstly, Mercurial has a simpler command structure and a more straightforward workflow, which can be...</td>\n",
       "      <td id=\"T_4df45_row0_col3\" class=\"data row0 col3\" >Mercurial is considered easier than Git primarily due to its simpler command structure and more straightforward workflow, which can be less intimidating for beginners. It...</td>\n",
       "      <td id=\"T_4df45_row0_col4\" class=\"data row0 col4\" >✔️ [0.545]</td>\n",
       "    </tr>\n",
       "    <tr>\n",
       "      <th id=\"T_4df45_level0_row1\" class=\"row_heading level0 row1\" >1</th>\n",
       "      <td id=\"T_4df45_row1_col0\" class=\"data row1 col0\" >open finder window from current terminal location?</td>\n",
       "      <td id=\"T_4df45_row1_col1\" class=\"data row1 col1\" >If you type 'open .' in Terminal, it will open the current directory in a Finder window. Alternatively, you can execute the command open `pwd`...</td>\n",
       "      <td id=\"T_4df45_row1_col2\" class=\"data row1 col2\" >To open a Finder window from the current terminal location on a Mac, you can use the `open` command followed by a period (`.`) which...</td>\n",
       "      <td id=\"T_4df45_row1_col3\" class=\"data row1 col3\" >You can open a Finder window from your current terminal location by typing the following command and pressing Enter:\n",
       "```\n",
       "open .\n",
       "```</td>\n",
       "      <td id=\"T_4df45_row1_col4\" class=\"data row1 col4\" >✔️ [0.667]</td>\n",
       "    </tr>\n",
       "    <tr>\n",
       "      <th id=\"T_4df45_level0_row2\" class=\"row_heading level0 row2\" >2</th>\n",
       "      <td id=\"T_4df45_row2_col0\" class=\"data row2 col0\" >how to import secret gpg key (copied from one machine to another)?</td>\n",
       "      <td id=\"T_4df45_row2_col1\" class=\"data row2 col1\" >It is advised that it is necessary to add `--import` to the command line to import the private key and that according to the man...</td>\n",
       "      <td id=\"T_4df45_row2_col2\" class=\"data row2 col2\" >To import a secret GPG key that has been copied from one machine to another, you need to ensure that the key is in the...</td>\n",
       "      <td id=\"T_4df45_row2_col3\" class=\"data row2 col3\" >To import a secret GPG key that you have copied from one machine to another, follow these steps: 1. **Ensure the key file is accessible**:...</td>\n",
       "      <td id=\"T_4df45_row2_col4\" class=\"data row2 col4\" ></td>\n",
       "    </tr>\n",
       "  </tbody>\n",
       "</table>\n"
      ],
      "text/plain": [
       "<pandas.io.formats.style.Styler at 0x11daabd70>"
      ]
     },
     "metadata": {},
     "output_type": "display_data"
    },
    {
     "data": {
      "text/html": [
       "\n",
       "                <div style='\n",
       "                    text-align: center;\n",
       "                    font-size: 16px;\n",
       "                    font-weight: bold;\n",
       "                    color: #555;\n",
       "                    margin: 10px 0;'>\n",
       "                    ... 147 more rows not displayed ...\n",
       "                </div>\n",
       "                "
      ],
      "text/plain": [
       "<IPython.core.display.HTML object>"
      ]
     },
     "metadata": {},
     "output_type": "display_data"
    },
    {
     "data": {
      "text/plain": [
       "38.88"
      ]
     },
     "execution_count": 31,
     "metadata": {},
     "output_type": "execute_result"
    }
   ],
   "source": [
    "# Evaluate the Chain-of-Thought program.\n",
    "evaluate(cot)"
   ]
  }
 ],
 "metadata": {
  "kernelspec": {
   "display_name": "llmEnv",
   "language": "python",
   "name": "python3"
  },
  "language_info": {
   "codemirror_mode": {
    "name": "ipython",
    "version": 3
   },
   "file_extension": ".py",
   "mimetype": "text/x-python",
   "name": "python",
   "nbconvert_exporter": "python",
   "pygments_lexer": "ipython3",
   "version": "3.12.6"
  }
 },
 "nbformat": 4,
 "nbformat_minor": 2
}
