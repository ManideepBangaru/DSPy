{
 "cells": [
  {
   "cell_type": "markdown",
   "metadata": {},
   "source": [
    "## Configure DSPy environment"
   ]
  },
  {
   "cell_type": "code",
   "execution_count": 6,
   "metadata": {},
   "outputs": [],
   "source": [
    "# import dspy\n",
    "import dspy\n",
    "\n",
    "# For display\n",
    "from IPython.display import Markdown"
   ]
  },
  {
   "cell_type": "code",
   "execution_count": 3,
   "metadata": {},
   "outputs": [],
   "source": [
    "# Lets tell dspy that we will use OpenAI GPT 4o mini\n",
    "lm = dspy.LM('openai/gpt-4o-mini')\n",
    "dspy.configure(lm = lm)"
   ]
  },
  {
   "cell_type": "markdown",
   "metadata": {},
   "source": [
    "## Exploring some DSPy modules"
   ]
  },
  {
   "cell_type": "code",
   "execution_count": 7,
   "metadata": {},
   "outputs": [
    {
     "data": {
      "text/markdown": [
       "In Linux, \"high memory\" and \"low memory\" refer to different regions of the system's memory address space, particularly in the context of 32-bit architectures.\n",
       "\n",
       "- **Low Memory**: This typically refers to the first 896 MB of memory in a 32-bit system. It is directly accessible by the kernel and can be used for kernel data structures and user processes. The low memory region is where most of the system's memory management occurs, and it is where the kernel can allocate memory for processes without needing special handling.\n",
       "\n",
       "- **High Memory**: This refers to the memory above the 896 MB threshold in a 32-bit system. This memory is not directly accessible by the kernel in the same way as low memory. Instead, it requires special handling, such as using a mechanism called \"high memory management\" to access it. High memory is typically used for user processes and can be allocated dynamically, but the kernel must map it into its address space to access it.\n",
       "\n",
       "In summary, low memory is directly accessible by the kernel, while high memory requires additional management to be accessed by the kernel in a 32-bit Linux environment."
      ],
      "text/plain": [
       "<IPython.core.display.Markdown object>"
      ]
     },
     "execution_count": 7,
     "metadata": {},
     "output_type": "execute_result"
    }
   ],
   "source": [
    "qa = dspy.Predict('question : str -> response : str')\n",
    "Markdown(qa(question = 'What are high memory and low memory in linux').response)"
   ]
  },
  {
   "cell_type": "markdown",
   "metadata": {},
   "source": [
    "## Inspection"
   ]
  },
  {
   "cell_type": "code",
   "execution_count": 10,
   "metadata": {},
   "outputs": [
    {
     "name": "stdout",
     "output_type": "stream",
     "text": [
      "\n",
      "\n",
      "\n",
      "\n",
      "\u001b[34m[2024-10-19T13:05:29.277664]\u001b[0m\n",
      "\n",
      "\u001b[31mSystem message:\u001b[0m\n",
      "\n",
      "Your input fields are:\n",
      "1. `question` (str)\n",
      "\n",
      "Your output fields are:\n",
      "1. `response` (str)\n",
      "\n",
      "All interactions will be structured in the following way, with the appropriate values filled in.\n",
      "\n",
      "[[ ## question ## ]]\n",
      "{question}\n",
      "\n",
      "[[ ## response ## ]]\n",
      "{response}\n",
      "\n",
      "[[ ## completed ## ]]\n",
      "\n",
      "In adhering to this structure, your objective is: \n",
      "        Given the fields `question`, produce the fields `response`.\n",
      "\n",
      "\n",
      "\u001b[31mUser message:\u001b[0m\n",
      "\n",
      "[[ ## question ## ]]\n",
      "What are high memory and low memory in linux\n",
      "\n",
      "Respond with the corresponding output fields, starting with the field `response`, and then ending with the marker for `completed`.\n",
      "\n",
      "\n",
      "\u001b[31mResponse:\u001b[0m\n",
      "\n",
      "\u001b[32m[[ ## response ## ]]\n",
      "In Linux, \"high memory\" and \"low memory\" refer to different regions of the system's memory address space, particularly in the context of 32-bit architectures.\n",
      "\n",
      "- **Low Memory**: This typically refers to the first 896 MB of memory in a 32-bit system. It is directly accessible by the kernel and can be used for kernel data structures and user processes. The low memory region is where most of the system's memory management occurs, and it is where the kernel can allocate memory for processes without needing special handling.\n",
      "\n",
      "- **High Memory**: This refers to the memory above the 896 MB threshold in a 32-bit system. This memory is not directly accessible by the kernel in the same way as low memory. Instead, it requires special handling, such as using a mechanism called \"high memory management\" to access it. High memory is typically used for user processes and can be allocated dynamically, but the kernel must map it into its address space to access it.\n",
      "\n",
      "In summary, low memory is directly accessible by the kernel, while high memory requires additional management to be accessed by the kernel in a 32-bit Linux environment.\n",
      "\n",
      "[[ ## completed ## ]]\u001b[0m\n",
      "\n",
      "\n",
      "\n",
      "\n",
      "\n"
     ]
    }
   ],
   "source": [
    "dspy.inspect_history(n=1)"
   ]
  },
  {
   "cell_type": "code",
   "execution_count": 16,
   "metadata": {},
   "outputs": [
    {
     "data": {
      "text/plain": [
       "Prediction(\n",
       "    reasoning='The placement of curly braces often depends on the coding style guidelines being followed. In many programming languages, such as Java, C#, and JavaScript, it is common to place opening curly braces on the same line as the statement that precedes them, while closing curly braces are often placed on their own line. This style enhances readability and maintains a clear structure. However, some coding standards, like those used in Python or certain functional programming languages, may not use curly braces at all. Ultimately, whether curly braces should appear on their own line is a matter of personal or team preference, and consistency within a codebase is key.',\n",
       "    response=\"Curly braces can appear on their own line depending on the coding style guidelines you are following. Many developers prefer placing the opening brace on the same line as the preceding statement for readability, while the closing brace is often placed on its own line. It's important to follow a consistent style throughout your codebase.\"\n",
       ")"
      ]
     },
     "execution_count": 16,
     "metadata": {},
     "output_type": "execute_result"
    }
   ],
   "source": [
    "cot = dspy.ChainOfThought('question -> response')\n",
    "cot(question = \"should curly braces appear on their own line ?\")"
   ]
  },
  {
   "cell_type": "code",
   "execution_count": 17,
   "metadata": {},
   "outputs": [
    {
     "name": "stdout",
     "output_type": "stream",
     "text": [
      "\n",
      "\n",
      "\n",
      "\n",
      "\u001b[34m[2024-10-19T13:14:49.784757]\u001b[0m\n",
      "\n",
      "\u001b[31mSystem message:\u001b[0m\n",
      "\n",
      "Your input fields are:\n",
      "1. `question` (str)\n",
      "\n",
      "Your output fields are:\n",
      "1. `reasoning` (str)\n",
      "2. `response` (str)\n",
      "\n",
      "All interactions will be structured in the following way, with the appropriate values filled in.\n",
      "\n",
      "[[ ## question ## ]]\n",
      "{question}\n",
      "\n",
      "[[ ## reasoning ## ]]\n",
      "{reasoning}\n",
      "\n",
      "[[ ## response ## ]]\n",
      "{response}\n",
      "\n",
      "[[ ## completed ## ]]\n",
      "\n",
      "In adhering to this structure, your objective is: \n",
      "        Given the fields `question`, produce the fields `response`.\n",
      "\n",
      "\n",
      "\u001b[31mUser message:\u001b[0m\n",
      "\n",
      "[[ ## question ## ]]\n",
      "should curly braces appear on their own line ?\n",
      "\n",
      "Respond with the corresponding output fields, starting with the field `reasoning`, then `response`, and then ending with the marker for `completed`.\n",
      "\n",
      "\n",
      "\u001b[31mResponse:\u001b[0m\n",
      "\n",
      "\u001b[32m[[ ## reasoning ## ]]\n",
      "The placement of curly braces often depends on the coding style guidelines being followed. In many programming languages, such as Java, C#, and JavaScript, it is common to place opening curly braces on the same line as the statement that precedes them, while closing curly braces are often placed on their own line. This style enhances readability and maintains a clear structure. However, some coding standards, like those used in Python or certain functional programming languages, may not use curly braces at all. Ultimately, whether curly braces should appear on their own line is a matter of personal or team preference, and consistency within a codebase is key.\n",
      "\n",
      "[[ ## response ## ]]\n",
      "Curly braces can appear on their own line depending on the coding style guidelines you are following. Many developers prefer placing the opening brace on the same line as the preceding statement for readability, while the closing brace is often placed on its own line. It's important to follow a consistent style throughout your codebase.\n",
      "\n",
      "[[ ## completed ## ]]\u001b[0m\n",
      "\n",
      "\n",
      "\n",
      "\n",
      "\n"
     ]
    }
   ],
   "source": [
    "dspy.inspect_history(n=1)"
   ]
  },
  {
   "cell_type": "markdown",
   "metadata": {},
   "source": [
    "## Manipulating Examples ins DSPy"
   ]
  },
  {
   "cell_type": "code",
   "execution_count": 19,
   "metadata": {},
   "outputs": [
    {
     "data": {
      "text/plain": [
       "{'question': 'how to transfer whatsapp voice message to computer?',\n",
       " 'response': 'To transfer voice notes from WhatsApp on your device to your computer, you have the option to select the \"Share\" feature within the app and send the files via Email, Gmail, Bluetooth, or other available services.  \\nYou can also move the files onto your phone\\'s SD card, connect your phone to your computer via a USB cable, then find and transfer the files via File Explorer on your PC. \\nAlternatively, you can choose to attach all the desired voice notes to an email and, from your phone, send them to your own email address.  \\nUpon receiving the email on your computer, you can then download the voice note attachments.'}"
      ]
     },
     "execution_count": 19,
     "metadata": {},
     "output_type": "execute_result"
    }
   ],
   "source": [
    "import ujson\n",
    "\n",
    "# Download 500 question--answer pairs from the RAG-QA Arena \"Tech\" dataset.\n",
    "# !wget https://huggingface.co/dspy/cache/resolve/main/ragqa_arena_tech_500.json\n",
    "# CURL -O https://huggingface.co/dspy/cache/resolve/main/ragqa_arena_tech_500.json\n",
    "\n",
    "with open('data/ragqa_arena_tech_500.json') as f:\n",
    "    data = ujson.load(f)\n",
    "\n",
    "# Inspect one datapoint.\n",
    "data[0]\n"
   ]
  },
  {
   "cell_type": "code",
   "execution_count": null,
   "metadata": {},
   "outputs": [],
   "source": []
  }
 ],
 "metadata": {
  "kernelspec": {
   "display_name": "llmEnv",
   "language": "python",
   "name": "python3"
  },
  "language_info": {
   "codemirror_mode": {
    "name": "ipython",
    "version": 3
   },
   "file_extension": ".py",
   "mimetype": "text/x-python",
   "name": "python",
   "nbconvert_exporter": "python",
   "pygments_lexer": "ipython3",
   "version": "3.12.6"
  }
 },
 "nbformat": 4,
 "nbformat_minor": 2
}
